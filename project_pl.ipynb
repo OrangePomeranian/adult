{
  "cells": [
    {
      "cell_type": "code",
      "execution_count": 22,
      "metadata": {
        "colab": {
          "base_uri": "https://localhost:8080/",
          "height": 373
        },
        "id": "ppQ-7kwieMre",
        "outputId": "d6aa8678-9aa4-46d7-abeb-5a8a8421043c",
        "vscode": {
          "languageId": "r"
        }
      },
      "outputs": [
        {
          "data": {
            "text/html": [
              "<table class=\"dataframe\">\n",
              "<caption>A data.frame: 6 × 15</caption>\n",
              "<thead>\n",
              "\t<tr><th></th><th scope=col>age</th><th scope=col>workclass</th><th scope=col>fnlwgt</th><th scope=col>education</th><th scope=col>educational.num</th><th scope=col>marital.status</th><th scope=col>occupation</th><th scope=col>relationship</th><th scope=col>race</th><th scope=col>gender</th><th scope=col>capital.gain</th><th scope=col>capital.loss</th><th scope=col>hours.per.week</th><th scope=col>native.country</th><th scope=col>income</th></tr>\n",
              "\t<tr><th></th><th scope=col>&lt;int&gt;</th><th scope=col>&lt;chr&gt;</th><th scope=col>&lt;int&gt;</th><th scope=col>&lt;chr&gt;</th><th scope=col>&lt;int&gt;</th><th scope=col>&lt;chr&gt;</th><th scope=col>&lt;chr&gt;</th><th scope=col>&lt;chr&gt;</th><th scope=col>&lt;chr&gt;</th><th scope=col>&lt;chr&gt;</th><th scope=col>&lt;int&gt;</th><th scope=col>&lt;int&gt;</th><th scope=col>&lt;int&gt;</th><th scope=col>&lt;chr&gt;</th><th scope=col>&lt;chr&gt;</th></tr>\n",
              "</thead>\n",
              "<tbody>\n",
              "\t<tr><th scope=row>1</th><td>25</td><td><span style=white-space:pre-wrap>Private  </span></td><td>226802</td><td><span style=white-space:pre-wrap>11th        </span></td><td> 7</td><td><span style=white-space:pre-wrap>Never-married     </span></td><td>Machine-op-inspct</td><td><span style=white-space:pre-wrap>Own-child    </span></td><td>Black</td><td><span style=white-space:pre-wrap>Male  </span></td><td><span style=white-space:pre-wrap>   0</span></td><td>0</td><td>40</td><td>United-States</td><td>&lt;=50K</td></tr>\n",
              "\t<tr><th scope=row>2</th><td>38</td><td><span style=white-space:pre-wrap>Private  </span></td><td> 89814</td><td><span style=white-space:pre-wrap>HS-grad     </span></td><td> 9</td><td>Married-civ-spouse</td><td><span style=white-space:pre-wrap>Farming-fishing  </span></td><td><span style=white-space:pre-wrap>Husband      </span></td><td>White</td><td><span style=white-space:pre-wrap>Male  </span></td><td><span style=white-space:pre-wrap>   0</span></td><td>0</td><td>50</td><td>United-States</td><td>&lt;=50K</td></tr>\n",
              "\t<tr><th scope=row>3</th><td>28</td><td>Local-gov</td><td>336951</td><td><span style=white-space:pre-wrap>Assoc-acdm  </span></td><td>12</td><td>Married-civ-spouse</td><td><span style=white-space:pre-wrap>Protective-serv  </span></td><td><span style=white-space:pre-wrap>Husband      </span></td><td>White</td><td><span style=white-space:pre-wrap>Male  </span></td><td><span style=white-space:pre-wrap>   0</span></td><td>0</td><td>40</td><td>United-States</td><td>&gt;50K </td></tr>\n",
              "\t<tr><th scope=row>4</th><td>44</td><td><span style=white-space:pre-wrap>Private  </span></td><td>160323</td><td>Some-college</td><td>10</td><td>Married-civ-spouse</td><td>Machine-op-inspct</td><td><span style=white-space:pre-wrap>Husband      </span></td><td>Black</td><td><span style=white-space:pre-wrap>Male  </span></td><td>7688</td><td>0</td><td>40</td><td>United-States</td><td>&gt;50K </td></tr>\n",
              "\t<tr><th scope=row>5</th><td>18</td><td><span style=white-space:pre-wrap>?        </span></td><td>103497</td><td>Some-college</td><td>10</td><td><span style=white-space:pre-wrap>Never-married     </span></td><td><span style=white-space:pre-wrap>?                </span></td><td><span style=white-space:pre-wrap>Own-child    </span></td><td>White</td><td>Female</td><td><span style=white-space:pre-wrap>   0</span></td><td>0</td><td>30</td><td>United-States</td><td>&lt;=50K</td></tr>\n",
              "\t<tr><th scope=row>6</th><td>34</td><td><span style=white-space:pre-wrap>Private  </span></td><td>198693</td><td><span style=white-space:pre-wrap>10th        </span></td><td> 6</td><td><span style=white-space:pre-wrap>Never-married     </span></td><td><span style=white-space:pre-wrap>Other-service    </span></td><td>Not-in-family</td><td>White</td><td><span style=white-space:pre-wrap>Male  </span></td><td><span style=white-space:pre-wrap>   0</span></td><td>0</td><td>30</td><td>United-States</td><td>&lt;=50K</td></tr>\n",
              "</tbody>\n",
              "</table>\n"
            ],
            "text/latex": [
              "A data.frame: 6 × 15\n",
              "\\begin{tabular}{r|lllllllllllllll}\n",
              "  & age & workclass & fnlwgt & education & educational.num & marital.status & occupation & relationship & race & gender & capital.gain & capital.loss & hours.per.week & native.country & income\\\\\n",
              "  & <int> & <chr> & <int> & <chr> & <int> & <chr> & <chr> & <chr> & <chr> & <chr> & <int> & <int> & <int> & <chr> & <chr>\\\\\n",
              "\\hline\n",
              "\t1 & 25 & Private   & 226802 & 11th         &  7 & Never-married      & Machine-op-inspct & Own-child     & Black & Male   &    0 & 0 & 40 & United-States & <=50K\\\\\n",
              "\t2 & 38 & Private   &  89814 & HS-grad      &  9 & Married-civ-spouse & Farming-fishing   & Husband       & White & Male   &    0 & 0 & 50 & United-States & <=50K\\\\\n",
              "\t3 & 28 & Local-gov & 336951 & Assoc-acdm   & 12 & Married-civ-spouse & Protective-serv   & Husband       & White & Male   &    0 & 0 & 40 & United-States & >50K \\\\\n",
              "\t4 & 44 & Private   & 160323 & Some-college & 10 & Married-civ-spouse & Machine-op-inspct & Husband       & Black & Male   & 7688 & 0 & 40 & United-States & >50K \\\\\n",
              "\t5 & 18 & ?         & 103497 & Some-college & 10 & Never-married      & ?                 & Own-child     & White & Female &    0 & 0 & 30 & United-States & <=50K\\\\\n",
              "\t6 & 34 & Private   & 198693 & 10th         &  6 & Never-married      & Other-service     & Not-in-family & White & Male   &    0 & 0 & 30 & United-States & <=50K\\\\\n",
              "\\end{tabular}\n"
            ],
            "text/markdown": [
              "\n",
              "A data.frame: 6 × 15\n",
              "\n",
              "| <!--/--> | age &lt;int&gt; | workclass &lt;chr&gt; | fnlwgt &lt;int&gt; | education &lt;chr&gt; | educational.num &lt;int&gt; | marital.status &lt;chr&gt; | occupation &lt;chr&gt; | relationship &lt;chr&gt; | race &lt;chr&gt; | gender &lt;chr&gt; | capital.gain &lt;int&gt; | capital.loss &lt;int&gt; | hours.per.week &lt;int&gt; | native.country &lt;chr&gt; | income &lt;chr&gt; |\n",
              "|---|---|---|---|---|---|---|---|---|---|---|---|---|---|---|---|\n",
              "| 1 | 25 | Private   | 226802 | 11th         |  7 | Never-married      | Machine-op-inspct | Own-child     | Black | Male   |    0 | 0 | 40 | United-States | &lt;=50K |\n",
              "| 2 | 38 | Private   |  89814 | HS-grad      |  9 | Married-civ-spouse | Farming-fishing   | Husband       | White | Male   |    0 | 0 | 50 | United-States | &lt;=50K |\n",
              "| 3 | 28 | Local-gov | 336951 | Assoc-acdm   | 12 | Married-civ-spouse | Protective-serv   | Husband       | White | Male   |    0 | 0 | 40 | United-States | &gt;50K  |\n",
              "| 4 | 44 | Private   | 160323 | Some-college | 10 | Married-civ-spouse | Machine-op-inspct | Husband       | Black | Male   | 7688 | 0 | 40 | United-States | &gt;50K  |\n",
              "| 5 | 18 | ?         | 103497 | Some-college | 10 | Never-married      | ?                 | Own-child     | White | Female |    0 | 0 | 30 | United-States | &lt;=50K |\n",
              "| 6 | 34 | Private   | 198693 | 10th         |  6 | Never-married      | Other-service     | Not-in-family | White | Male   |    0 | 0 | 30 | United-States | &lt;=50K |\n",
              "\n"
            ],
            "text/plain": [
              "  age workclass fnlwgt education    educational.num marital.status    \n",
              "1 25  Private   226802 11th          7              Never-married     \n",
              "2 38  Private    89814 HS-grad       9              Married-civ-spouse\n",
              "3 28  Local-gov 336951 Assoc-acdm   12              Married-civ-spouse\n",
              "4 44  Private   160323 Some-college 10              Married-civ-spouse\n",
              "5 18  ?         103497 Some-college 10              Never-married     \n",
              "6 34  Private   198693 10th          6              Never-married     \n",
              "  occupation        relationship  race  gender capital.gain capital.loss\n",
              "1 Machine-op-inspct Own-child     Black Male      0         0           \n",
              "2 Farming-fishing   Husband       White Male      0         0           \n",
              "3 Protective-serv   Husband       White Male      0         0           \n",
              "4 Machine-op-inspct Husband       Black Male   7688         0           \n",
              "5 ?                 Own-child     White Female    0         0           \n",
              "6 Other-service     Not-in-family White Male      0         0           \n",
              "  hours.per.week native.country income\n",
              "1 40             United-States  <=50K \n",
              "2 50             United-States  <=50K \n",
              "3 40             United-States  >50K  \n",
              "4 40             United-States  >50K  \n",
              "5 30             United-States  <=50K \n",
              "6 30             United-States  <=50K "
            ]
          },
          "metadata": {},
          "output_type": "display_data"
        }
      ],
      "source": [
        "data = read.table('/content/adult.csv', sep = ',', header = TRUE)\n",
        "\n",
        "head(data)"
      ]
    },
    {
      "cell_type": "markdown",
      "metadata": {
        "id": "KZAlo7sbeMrj"
      },
      "source": [
        "Listing of attributes:\n",
        "\n",
        ">50K, <=50K.\n",
        "\n",
        "age: continuous.\n",
        "workclass: Private, Self-emp-not-inc, Self-emp-inc, Federal-gov, Local-gov, State-gov, Without-pay, Never-worked.\n",
        "fnlwgt: continuous.\n",
        "education: Bachelors, Some-college, 11th, HS-grad, Prof-school, Assoc-acdm, Assoc-voc, 9th, 7th-8th, 12th, Masters, 1st-4th, 10th, Doctorate, 5th-6th, Preschool.\n",
        "education-num: continuous.\n",
        "marital-status: Married-civ-spouse, Divorced, Never-married, Separated, Widowed, Married-spouse-absent, Married-AF-spouse.\n",
        "occupation: Tech-support, Craft-repair, Other-service, Sales, Exec-managerial, Prof-specialty, Handlers-cleaners, Machine-op-inspct, Adm-clerical, Farming-fishing, Transport-moving, Priv-house-serv, Protective-serv, Armed-Forces.\n",
        "relationship: Wife, Own-child, Husband, Not-in-family, Other-relative, Unmarried.\n",
        "race: White, Asian-Pac-Islander, Amer-Indian-Eskimo, Other, Black.\n",
        "sex: Female, Male.\n",
        "capital-gain: continuous.\n",
        "capital-loss: continuous.\n",
        "hours-per-week: continuous.\n",
        "native-country: United-States, Cambodia, England, Puerto-Rico, Canada, Germany, Outlying-US(Guam-USVI-etc), India, Japan, Greece, South, China, Cuba, Iran, Honduras, Philippines, Italy, Poland, Jamaica, Vietnam, Mexico, Portugal, Ireland, France, Dominican-Republic, Laos, Ecuador, Taiwan, Haiti, Columbia, Hungary, Guatemala, Nicaragua, Scotland, Thailand, Yugoslavia, El-Salvador, Trinadad&Tobago, Peru, Hong, Holand-Netherlands."
      ]
    },
    {
      "cell_type": "markdown",
      "metadata": {
        "id": "eY6G-GZeeMrl"
      },
      "source": [
        "## Zad 1\n",
        "### W kolumnie type_employer:\n",
        "#### 1. zastąpić wpisy \"Federal-gov\" i \"Local-gov\" wpisem \"SL-gov\"\n",
        "#### 2. zastąpić wpisy \"Self-emp-inc\" i \"Self-emp-not-inc\" wpisem \"self-emp\""
      ]
    },
    {
      "cell_type": "code",
      "execution_count": 7,
      "metadata": {
        "colab": {
          "base_uri": "https://localhost:8080/"
        },
        "id": "358ymMq8eMrm",
        "outputId": "946aac75-99c2-4a9d-f5fe-f3282b154143",
        "vscode": {
          "languageId": "r"
        }
      },
      "outputs": [
        {
          "name": "stderr",
          "output_type": "stream",
          "text": [
            "Installing package into ‘/usr/local/lib/R/site-library’\n",
            "(as ‘lib’ is unspecified)\n",
            "\n",
            "also installing the dependencies ‘listenv’, ‘parallelly’, ‘future’, ‘globals’, ‘shape’, ‘future.apply’, ‘numDeriv’, ‘progressr’, ‘SQUAREM’, ‘diagram’, ‘lava’, ‘prodlim’, ‘proxy’, ‘iterators’, ‘Rcpp’, ‘clock’, ‘gower’, ‘hardhat’, ‘ipred’, ‘timeDate’, ‘e1071’, ‘foreach’, ‘ModelMetrics’, ‘plyr’, ‘pROC’, ‘recipes’, ‘reshape2’\n",
            "\n",
            "\n"
          ]
        }
      ],
      "source": [
        "install.packages('caret')"
      ]
    },
    {
      "cell_type": "code",
      "execution_count": 5,
      "metadata": {
        "colab": {
          "base_uri": "https://localhost:8080/"
        },
        "id": "lFGe2xoZeMrn",
        "outputId": "16456fe8-e1b8-4722-fe29-35b38de49a0b",
        "vscode": {
          "languageId": "r"
        }
      },
      "outputs": [
        {
          "name": "stderr",
          "output_type": "stream",
          "text": [
            "── \u001b[1mAttaching packages\u001b[22m ─────────────────────────────────────── tidyverse 1.3.1 ──\n",
            "\n",
            "\u001b[32m✔\u001b[39m \u001b[34mggplot2\u001b[39m 3.4.2     \u001b[32m✔\u001b[39m \u001b[34mpurrr  \u001b[39m 1.0.1\n",
            "\u001b[32m✔\u001b[39m \u001b[34mtibble \u001b[39m 3.2.1     \u001b[32m✔\u001b[39m \u001b[34mdplyr  \u001b[39m 1.1.2\n",
            "\u001b[32m✔\u001b[39m \u001b[34mtidyr  \u001b[39m 1.3.0     \u001b[32m✔\u001b[39m \u001b[34mstringr\u001b[39m 1.5.0\n",
            "\u001b[32m✔\u001b[39m \u001b[34mreadr  \u001b[39m 2.1.4     \u001b[32m✔\u001b[39m \u001b[34mforcats\u001b[39m 1.0.0\n",
            "\n",
            "── \u001b[1mConflicts\u001b[22m ────────────────────────────────────────── tidyverse_conflicts() ──\n",
            "\u001b[31m✖\u001b[39m \u001b[34mdplyr\u001b[39m::\u001b[32mfilter()\u001b[39m masks \u001b[34mstats\u001b[39m::filter()\n",
            "\u001b[31m✖\u001b[39m \u001b[34mdplyr\u001b[39m::\u001b[32mlag()\u001b[39m    masks \u001b[34mstats\u001b[39m::lag()\n",
            "\n"
          ]
        }
      ],
      "source": [
        "library(tidyverse)"
      ]
    },
    {
      "cell_type": "code",
      "execution_count": 8,
      "metadata": {
        "colab": {
          "base_uri": "https://localhost:8080/"
        },
        "id": "SIqk7O0HeMrp",
        "outputId": "6f57b3bd-c69b-4404-f56b-b5a75ec56e08",
        "vscode": {
          "languageId": "r"
        }
      },
      "outputs": [
        {
          "name": "stderr",
          "output_type": "stream",
          "text": [
            "Loading required package: lattice\n",
            "\n",
            "\n",
            "Attaching package: ‘caret’\n",
            "\n",
            "\n",
            "The following object is masked from ‘package:purrr’:\n",
            "\n",
            "    lift\n",
            "\n",
            "\n"
          ]
        }
      ],
      "source": [
        "library(caret)"
      ]
    },
    {
      "cell_type": "code",
      "execution_count": 23,
      "metadata": {
        "colab": {
          "base_uri": "https://localhost:8080/",
          "height": 146
        },
        "id": "NBms08-IeMrq",
        "outputId": "3749f330-2ec7-405a-e5d4-7bbef61e1bb1",
        "vscode": {
          "languageId": "r"
        }
      },
      "outputs": [
        {
          "data": {
            "text/plain": [
              "\n",
              "               ?      Federal-gov        Local-gov     Never-worked \n",
              "            2799             1432             3136               10 \n",
              "         Private     Self-emp-inc Self-emp-not-inc        State-gov \n",
              "           33906             1695             3862             1981 \n",
              "     Without-pay \n",
              "              21 "
            ]
          },
          "metadata": {},
          "output_type": "display_data"
        }
      ],
      "source": [
        "table(data$workclass)"
      ]
    },
    {
      "cell_type": "code",
      "execution_count": 24,
      "metadata": {
        "colab": {
          "base_uri": "https://localhost:8080/",
          "height": 109
        },
        "id": "5F3PTSs2eMrs",
        "outputId": "be0df7fc-ccc1-4c11-cb5a-a92f6bb30eb5",
        "vscode": {
          "languageId": "r"
        }
      },
      "outputs": [
        {
          "data": {
            "text/plain": [
              "\n",
              "           ? Never-worked      Private     self-emp       SL-gov    State-gov \n",
              "        2799           10        33906         5557         4568         1981 \n",
              " Without-pay \n",
              "          21 "
            ]
          },
          "metadata": {},
          "output_type": "display_data"
        }
      ],
      "source": [
        "data$workclass = str_replace(data$workclass, c(\"Local-gov|Federal-gov\"), \"SL-gov\")\n",
        "data$workclass = str_replace(data$workclass, c(\"Self-emp-inc|Self-emp-not-inc\"), \"self-emp\")\n",
        "table(data$workclass)"
      ]
    },
    {
      "cell_type": "markdown",
      "metadata": {
        "id": "YO1SFV_beMrt"
      },
      "source": [
        "## Zad 2\n",
        "### W kolumnie \"marital\" zredukować liczbę wpisów do trzech (Married;Not-Married;Never-Married)"
      ]
    },
    {
      "cell_type": "code",
      "execution_count": 25,
      "metadata": {
        "colab": {
          "base_uri": "https://localhost:8080/",
          "height": 146
        },
        "id": "m8idUKT8eMrv",
        "outputId": "ab2577fe-9415-4c1a-9e0e-b347bb357a32",
        "vscode": {
          "languageId": "r"
        }
      },
      "outputs": [
        {
          "data": {
            "text/plain": [
              "\n",
              "             Divorced     Married-AF-spouse    Married-civ-spouse \n",
              "                 6633                    37                 22379 \n",
              "Married-spouse-absent         Never-married             Separated \n",
              "                  628                 16117                  1530 \n",
              "              Widowed \n",
              "                 1518 "
            ]
          },
          "metadata": {},
          "output_type": "display_data"
        }
      ],
      "source": [
        "table(data$marital.status)"
      ]
    },
    {
      "cell_type": "code",
      "execution_count": 26,
      "metadata": {
        "colab": {
          "base_uri": "https://localhost:8080/",
          "height": 72
        },
        "id": "EAFNVeFZeMrw",
        "outputId": "32cb25be-3d16-490c-c76f-7566266a247d",
        "vscode": {
          "languageId": "r"
        }
      },
      "outputs": [
        {
          "data": {
            "text/plain": [
              "\n",
              "      Married Never-married   Not-Married \n",
              "        24574         16117          8151 "
            ]
          },
          "metadata": {},
          "output_type": "display_data"
        }
      ],
      "source": [
        "data$marital.status = str_replace(data$marital.status, c(\"Married-AF-spouse|Married-civ-spouse|Married-spouse-absent|Separated\"), \"Married\")\n",
        "data$marital.status = str_replace(data$marital.status, c(\"Divorced|Widowed\"), \"Not-Married\")\n",
        "table(data$marital.status)"
      ]
    },
    {
      "cell_type": "markdown",
      "metadata": {
        "id": "4SeyQ7BReMry"
      },
      "source": [
        "## Zad 3\n",
        "### Zmniejszyć liczbę wpisów w kolumnie country (np. grupowanie przez kontynenty? inne podejście?)"
      ]
    },
    {
      "cell_type": "code",
      "execution_count": 27,
      "metadata": {
        "colab": {
          "base_uri": "https://localhost:8080/",
          "height": 1000
        },
        "id": "Rojv5-RoeMrz",
        "outputId": "9575dd55-6e91-4523-8fa7-90add7968d0b",
        "vscode": {
          "languageId": "r"
        }
      },
      "outputs": [
        {
          "data": {
            "text/html": [
              "<table class=\"dataframe\">\n",
              "<caption>A tibble: 42 × 2</caption>\n",
              "<thead>\n",
              "\t<tr><th scope=col>native.country</th><th scope=col>disp</th></tr>\n",
              "\t<tr><th scope=col>&lt;chr&gt;</th><th scope=col>&lt;dbl&gt;</th></tr>\n",
              "</thead>\n",
              "<tbody>\n",
              "\t<tr><td>?                         </td><td>38.77246</td></tr>\n",
              "\t<tr><td>Cambodia                  </td><td>36.89286</td></tr>\n",
              "\t<tr><td>Canada                    </td><td>44.04945</td></tr>\n",
              "\t<tr><td>China                     </td><td>41.85246</td></tr>\n",
              "\t<tr><td>Columbia                  </td><td>39.45882</td></tr>\n",
              "\t<tr><td>Cuba                      </td><td>46.35507</td></tr>\n",
              "\t<tr><td>Dominican-Republic        </td><td>37.97087</td></tr>\n",
              "\t<tr><td>Ecuador                   </td><td>37.66667</td></tr>\n",
              "\t<tr><td>El-Salvador               </td><td>33.38065</td></tr>\n",
              "\t<tr><td>England                   </td><td>40.52756</td></tr>\n",
              "\t<tr><td>France                    </td><td>40.31579</td></tr>\n",
              "\t<tr><td>Germany                   </td><td>38.60194</td></tr>\n",
              "\t<tr><td>Greece                    </td><td>45.83673</td></tr>\n",
              "\t<tr><td>Guatemala                 </td><td>32.09091</td></tr>\n",
              "\t<tr><td>Haiti                     </td><td>38.60000</td></tr>\n",
              "\t<tr><td>Holand-Netherlands        </td><td>32.00000</td></tr>\n",
              "\t<tr><td>Honduras                  </td><td>35.05000</td></tr>\n",
              "\t<tr><td>Hong                      </td><td>34.23333</td></tr>\n",
              "\t<tr><td>Hungary                   </td><td>50.36842</td></tr>\n",
              "\t<tr><td>India                     </td><td>38.36424</td></tr>\n",
              "\t<tr><td>Iran                      </td><td>38.37288</td></tr>\n",
              "\t<tr><td>Ireland                   </td><td>38.48649</td></tr>\n",
              "\t<tr><td>Italy                     </td><td>45.41905</td></tr>\n",
              "\t<tr><td>Jamaica                   </td><td>37.14151</td></tr>\n",
              "\t<tr><td>Japan                     </td><td>37.35870</td></tr>\n",
              "\t<tr><td>Laos                      </td><td>35.21739</td></tr>\n",
              "\t<tr><td>Mexico                    </td><td>33.63512</td></tr>\n",
              "\t<tr><td>Nicaragua                 </td><td>36.28571</td></tr>\n",
              "\t<tr><td>Outlying-US(Guam-USVI-etc)</td><td>38.82609</td></tr>\n",
              "\t<tr><td>Peru                      </td><td>36.43478</td></tr>\n",
              "\t<tr><td>Philippines               </td><td>39.63390</td></tr>\n",
              "\t<tr><td>Poland                    </td><td>42.75862</td></tr>\n",
              "\t<tr><td>Portugal                  </td><td>41.23881</td></tr>\n",
              "\t<tr><td>Puerto-Rico               </td><td>39.86413</td></tr>\n",
              "\t<tr><td>Scotland                  </td><td>46.76190</td></tr>\n",
              "\t<tr><td>South                     </td><td>38.09565</td></tr>\n",
              "\t<tr><td>Taiwan                    </td><td>34.18462</td></tr>\n",
              "\t<tr><td>Thailand                  </td><td>37.66667</td></tr>\n",
              "\t<tr><td><span style=white-space:pre-wrap>Trinadad&amp;Tobago           </span></td><td>39.25926</td></tr>\n",
              "\t<tr><td>United-States             </td><td>38.69869</td></tr>\n",
              "\t<tr><td>Vietnam                   </td><td>34.61628</td></tr>\n",
              "\t<tr><td>Yugoslavia                </td><td>40.47826</td></tr>\n",
              "</tbody>\n",
              "</table>\n"
            ],
            "text/latex": [
              "A tibble: 42 × 2\n",
              "\\begin{tabular}{ll}\n",
              " native.country & disp\\\\\n",
              " <chr> & <dbl>\\\\\n",
              "\\hline\n",
              "\t ?                          & 38.77246\\\\\n",
              "\t Cambodia                   & 36.89286\\\\\n",
              "\t Canada                     & 44.04945\\\\\n",
              "\t China                      & 41.85246\\\\\n",
              "\t Columbia                   & 39.45882\\\\\n",
              "\t Cuba                       & 46.35507\\\\\n",
              "\t Dominican-Republic         & 37.97087\\\\\n",
              "\t Ecuador                    & 37.66667\\\\\n",
              "\t El-Salvador                & 33.38065\\\\\n",
              "\t England                    & 40.52756\\\\\n",
              "\t France                     & 40.31579\\\\\n",
              "\t Germany                    & 38.60194\\\\\n",
              "\t Greece                     & 45.83673\\\\\n",
              "\t Guatemala                  & 32.09091\\\\\n",
              "\t Haiti                      & 38.60000\\\\\n",
              "\t Holand-Netherlands         & 32.00000\\\\\n",
              "\t Honduras                   & 35.05000\\\\\n",
              "\t Hong                       & 34.23333\\\\\n",
              "\t Hungary                    & 50.36842\\\\\n",
              "\t India                      & 38.36424\\\\\n",
              "\t Iran                       & 38.37288\\\\\n",
              "\t Ireland                    & 38.48649\\\\\n",
              "\t Italy                      & 45.41905\\\\\n",
              "\t Jamaica                    & 37.14151\\\\\n",
              "\t Japan                      & 37.35870\\\\\n",
              "\t Laos                       & 35.21739\\\\\n",
              "\t Mexico                     & 33.63512\\\\\n",
              "\t Nicaragua                  & 36.28571\\\\\n",
              "\t Outlying-US(Guam-USVI-etc) & 38.82609\\\\\n",
              "\t Peru                       & 36.43478\\\\\n",
              "\t Philippines                & 39.63390\\\\\n",
              "\t Poland                     & 42.75862\\\\\n",
              "\t Portugal                   & 41.23881\\\\\n",
              "\t Puerto-Rico                & 39.86413\\\\\n",
              "\t Scotland                   & 46.76190\\\\\n",
              "\t South                      & 38.09565\\\\\n",
              "\t Taiwan                     & 34.18462\\\\\n",
              "\t Thailand                   & 37.66667\\\\\n",
              "\t Trinadad\\&Tobago            & 39.25926\\\\\n",
              "\t United-States              & 38.69869\\\\\n",
              "\t Vietnam                    & 34.61628\\\\\n",
              "\t Yugoslavia                 & 40.47826\\\\\n",
              "\\end{tabular}\n"
            ],
            "text/markdown": [
              "\n",
              "A tibble: 42 × 2\n",
              "\n",
              "| native.country &lt;chr&gt; | disp &lt;dbl&gt; |\n",
              "|---|---|\n",
              "| ?                          | 38.77246 |\n",
              "| Cambodia                   | 36.89286 |\n",
              "| Canada                     | 44.04945 |\n",
              "| China                      | 41.85246 |\n",
              "| Columbia                   | 39.45882 |\n",
              "| Cuba                       | 46.35507 |\n",
              "| Dominican-Republic         | 37.97087 |\n",
              "| Ecuador                    | 37.66667 |\n",
              "| El-Salvador                | 33.38065 |\n",
              "| England                    | 40.52756 |\n",
              "| France                     | 40.31579 |\n",
              "| Germany                    | 38.60194 |\n",
              "| Greece                     | 45.83673 |\n",
              "| Guatemala                  | 32.09091 |\n",
              "| Haiti                      | 38.60000 |\n",
              "| Holand-Netherlands         | 32.00000 |\n",
              "| Honduras                   | 35.05000 |\n",
              "| Hong                       | 34.23333 |\n",
              "| Hungary                    | 50.36842 |\n",
              "| India                      | 38.36424 |\n",
              "| Iran                       | 38.37288 |\n",
              "| Ireland                    | 38.48649 |\n",
              "| Italy                      | 45.41905 |\n",
              "| Jamaica                    | 37.14151 |\n",
              "| Japan                      | 37.35870 |\n",
              "| Laos                       | 35.21739 |\n",
              "| Mexico                     | 33.63512 |\n",
              "| Nicaragua                  | 36.28571 |\n",
              "| Outlying-US(Guam-USVI-etc) | 38.82609 |\n",
              "| Peru                       | 36.43478 |\n",
              "| Philippines                | 39.63390 |\n",
              "| Poland                     | 42.75862 |\n",
              "| Portugal                   | 41.23881 |\n",
              "| Puerto-Rico                | 39.86413 |\n",
              "| Scotland                   | 46.76190 |\n",
              "| South                      | 38.09565 |\n",
              "| Taiwan                     | 34.18462 |\n",
              "| Thailand                   | 37.66667 |\n",
              "| Trinadad&amp;Tobago            | 39.25926 |\n",
              "| United-States              | 38.69869 |\n",
              "| Vietnam                    | 34.61628 |\n",
              "| Yugoslavia                 | 40.47826 |\n",
              "\n"
            ],
            "text/plain": [
              "   native.country             disp    \n",
              "1  ?                          38.77246\n",
              "2  Cambodia                   36.89286\n",
              "3  Canada                     44.04945\n",
              "4  China                      41.85246\n",
              "5  Columbia                   39.45882\n",
              "6  Cuba                       46.35507\n",
              "7  Dominican-Republic         37.97087\n",
              "8  Ecuador                    37.66667\n",
              "9  El-Salvador                33.38065\n",
              "10 England                    40.52756\n",
              "11 France                     40.31579\n",
              "12 Germany                    38.60194\n",
              "13 Greece                     45.83673\n",
              "14 Guatemala                  32.09091\n",
              "15 Haiti                      38.60000\n",
              "16 Holand-Netherlands         32.00000\n",
              "17 Honduras                   35.05000\n",
              "18 Hong                       34.23333\n",
              "19 Hungary                    50.36842\n",
              "20 India                      38.36424\n",
              "21 Iran                       38.37288\n",
              "22 Ireland                    38.48649\n",
              "23 Italy                      45.41905\n",
              "24 Jamaica                    37.14151\n",
              "25 Japan                      37.35870\n",
              "26 Laos                       35.21739\n",
              "27 Mexico                     33.63512\n",
              "28 Nicaragua                  36.28571\n",
              "29 Outlying-US(Guam-USVI-etc) 38.82609\n",
              "30 Peru                       36.43478\n",
              "31 Philippines                39.63390\n",
              "32 Poland                     42.75862\n",
              "33 Portugal                   41.23881\n",
              "34 Puerto-Rico                39.86413\n",
              "35 Scotland                   46.76190\n",
              "36 South                      38.09565\n",
              "37 Taiwan                     34.18462\n",
              "38 Thailand                   37.66667\n",
              "39 Trinadad&Tobago            39.25926\n",
              "40 United-States              38.69869\n",
              "41 Vietnam                    34.61628\n",
              "42 Yugoslavia                 40.47826"
            ]
          },
          "metadata": {},
          "output_type": "display_data"
        }
      ],
      "source": [
        "data %>%\n",
        "    group_by(native.country) %>%\n",
        "    summarise(disp = mean(age))"
      ]
    },
    {
      "cell_type": "markdown",
      "metadata": {
        "id": "R70RDIheeMr0"
      },
      "source": [
        "## Zad 4\n",
        "### Zastąpić wpisy \"?\" na wartości NA"
      ]
    },
    {
      "cell_type": "code",
      "execution_count": 28,
      "metadata": {
        "colab": {
          "base_uri": "https://localhost:8080/",
          "height": 109
        },
        "id": "MxaV5MVweMr0",
        "outputId": "cd391b35-eb89-4a3d-a873-aed1fe89917c",
        "vscode": {
          "languageId": "r"
        }
      },
      "outputs": [
        {
          "data": {
            "text/plain": [
              "\n",
              "           ? Never-worked      Private     self-emp       SL-gov    State-gov \n",
              "        2799           10        33906         5557         4568         1981 \n",
              " Without-pay \n",
              "          21 "
            ]
          },
          "metadata": {},
          "output_type": "display_data"
        }
      ],
      "source": [
        "table(data$workclass)"
      ]
    },
    {
      "cell_type": "code",
      "execution_count": 29,
      "metadata": {
        "colab": {
          "base_uri": "https://localhost:8080/",
          "height": 72
        },
        "id": "7MYJZCaoeMr0",
        "outputId": "0e647cc2-7683-4a40-b05d-3913db5938f7",
        "vscode": {
          "languageId": "r"
        }
      },
      "outputs": [
        {
          "data": {
            "text/plain": [
              "\n",
              "Never-worked      Private     self-emp       SL-gov    State-gov  Without-pay \n",
              "          10        33906         5557         4568         1981           21 "
            ]
          },
          "metadata": {},
          "output_type": "display_data"
        }
      ],
      "source": [
        "data[data == '?'] = NA\n",
        "table(data$workclass)"
      ]
    },
    {
      "cell_type": "markdown",
      "metadata": {
        "id": "PuDXK-jveMr1"
      },
      "source": [
        "## Zad 5\n",
        "### Usunąć wiersze zawierające wpisy NA"
      ]
    },
    {
      "cell_type": "code",
      "execution_count": 30,
      "metadata": {
        "id": "VfqT6hKGXoqv"
      },
      "outputs": [],
      "source": [
        "data = drop_na(data)"
      ]
    },
    {
      "cell_type": "code",
      "execution_count": 31,
      "metadata": {
        "colab": {
          "base_uri": "https://localhost:8080/",
          "height": 72
        },
        "id": "mLk0rlegeMr1",
        "outputId": "3e0b16ad-b224-4821-eb25-615c0275662d",
        "vscode": {
          "languageId": "r"
        }
      },
      "outputs": [
        {
          "data": {
            "text/plain": [
              "\n",
              "    Private    self-emp      SL-gov   State-gov Without-pay \n",
              "      33307        5442        4506        1946          21 "
            ]
          },
          "metadata": {},
          "output_type": "display_data"
        }
      ],
      "source": [
        "table(data$workclass)"
      ]
    },
    {
      "cell_type": "code",
      "execution_count": 32,
      "metadata": {
        "colab": {
          "base_uri": "https://localhost:8080/",
          "height": 356
        },
        "id": "S-OAIaKNeMr2",
        "outputId": "bf7a47d7-de5c-4653-cb88-57b784425974",
        "vscode": {
          "languageId": "r"
        }
      },
      "outputs": [
        {
          "data": {
            "text/html": [
              "<table class=\"dataframe\">\n",
              "<caption>A data.frame: 6 × 15</caption>\n",
              "<thead>\n",
              "\t<tr><th></th><th scope=col>age</th><th scope=col>workclass</th><th scope=col>fnlwgt</th><th scope=col>education</th><th scope=col>educational.num</th><th scope=col>marital.status</th><th scope=col>occupation</th><th scope=col>relationship</th><th scope=col>race</th><th scope=col>gender</th><th scope=col>capital.gain</th><th scope=col>capital.loss</th><th scope=col>hours.per.week</th><th scope=col>native.country</th><th scope=col>income</th></tr>\n",
              "\t<tr><th></th><th scope=col>&lt;int&gt;</th><th scope=col>&lt;chr&gt;</th><th scope=col>&lt;int&gt;</th><th scope=col>&lt;chr&gt;</th><th scope=col>&lt;int&gt;</th><th scope=col>&lt;chr&gt;</th><th scope=col>&lt;chr&gt;</th><th scope=col>&lt;chr&gt;</th><th scope=col>&lt;chr&gt;</th><th scope=col>&lt;chr&gt;</th><th scope=col>&lt;int&gt;</th><th scope=col>&lt;int&gt;</th><th scope=col>&lt;int&gt;</th><th scope=col>&lt;chr&gt;</th><th scope=col>&lt;chr&gt;</th></tr>\n",
              "</thead>\n",
              "<tbody>\n",
              "\t<tr><th scope=row>1</th><td>25</td><td>Private </td><td>226802</td><td><span style=white-space:pre-wrap>11th        </span></td><td> 7</td><td>Never-married</td><td>Machine-op-inspct</td><td><span style=white-space:pre-wrap>Own-child    </span></td><td>Black</td><td>Male</td><td><span style=white-space:pre-wrap>   0</span></td><td>0</td><td>40</td><td>United-States</td><td>&lt;=50K</td></tr>\n",
              "\t<tr><th scope=row>2</th><td>38</td><td>Private </td><td> 89814</td><td><span style=white-space:pre-wrap>HS-grad     </span></td><td> 9</td><td><span style=white-space:pre-wrap>Married      </span></td><td><span style=white-space:pre-wrap>Farming-fishing  </span></td><td><span style=white-space:pre-wrap>Husband      </span></td><td>White</td><td>Male</td><td><span style=white-space:pre-wrap>   0</span></td><td>0</td><td>50</td><td>United-States</td><td>&lt;=50K</td></tr>\n",
              "\t<tr><th scope=row>3</th><td>28</td><td><span style=white-space:pre-wrap>SL-gov  </span></td><td>336951</td><td><span style=white-space:pre-wrap>Assoc-acdm  </span></td><td>12</td><td><span style=white-space:pre-wrap>Married      </span></td><td><span style=white-space:pre-wrap>Protective-serv  </span></td><td><span style=white-space:pre-wrap>Husband      </span></td><td>White</td><td>Male</td><td><span style=white-space:pre-wrap>   0</span></td><td>0</td><td>40</td><td>United-States</td><td>&gt;50K </td></tr>\n",
              "\t<tr><th scope=row>4</th><td>44</td><td>Private </td><td>160323</td><td>Some-college</td><td>10</td><td><span style=white-space:pre-wrap>Married      </span></td><td>Machine-op-inspct</td><td><span style=white-space:pre-wrap>Husband      </span></td><td>Black</td><td>Male</td><td>7688</td><td>0</td><td>40</td><td>United-States</td><td>&gt;50K </td></tr>\n",
              "\t<tr><th scope=row>5</th><td>34</td><td>Private </td><td>198693</td><td><span style=white-space:pre-wrap>10th        </span></td><td> 6</td><td>Never-married</td><td><span style=white-space:pre-wrap>Other-service    </span></td><td>Not-in-family</td><td>White</td><td>Male</td><td><span style=white-space:pre-wrap>   0</span></td><td>0</td><td>30</td><td>United-States</td><td>&lt;=50K</td></tr>\n",
              "\t<tr><th scope=row>6</th><td>63</td><td>self-emp</td><td>104626</td><td>Prof-school </td><td>15</td><td><span style=white-space:pre-wrap>Married      </span></td><td><span style=white-space:pre-wrap>Prof-specialty   </span></td><td><span style=white-space:pre-wrap>Husband      </span></td><td>White</td><td>Male</td><td>3103</td><td>0</td><td>32</td><td>United-States</td><td>&gt;50K </td></tr>\n",
              "</tbody>\n",
              "</table>\n"
            ],
            "text/latex": [
              "A data.frame: 6 × 15\n",
              "\\begin{tabular}{r|lllllllllllllll}\n",
              "  & age & workclass & fnlwgt & education & educational.num & marital.status & occupation & relationship & race & gender & capital.gain & capital.loss & hours.per.week & native.country & income\\\\\n",
              "  & <int> & <chr> & <int> & <chr> & <int> & <chr> & <chr> & <chr> & <chr> & <chr> & <int> & <int> & <int> & <chr> & <chr>\\\\\n",
              "\\hline\n",
              "\t1 & 25 & Private  & 226802 & 11th         &  7 & Never-married & Machine-op-inspct & Own-child     & Black & Male &    0 & 0 & 40 & United-States & <=50K\\\\\n",
              "\t2 & 38 & Private  &  89814 & HS-grad      &  9 & Married       & Farming-fishing   & Husband       & White & Male &    0 & 0 & 50 & United-States & <=50K\\\\\n",
              "\t3 & 28 & SL-gov   & 336951 & Assoc-acdm   & 12 & Married       & Protective-serv   & Husband       & White & Male &    0 & 0 & 40 & United-States & >50K \\\\\n",
              "\t4 & 44 & Private  & 160323 & Some-college & 10 & Married       & Machine-op-inspct & Husband       & Black & Male & 7688 & 0 & 40 & United-States & >50K \\\\\n",
              "\t5 & 34 & Private  & 198693 & 10th         &  6 & Never-married & Other-service     & Not-in-family & White & Male &    0 & 0 & 30 & United-States & <=50K\\\\\n",
              "\t6 & 63 & self-emp & 104626 & Prof-school  & 15 & Married       & Prof-specialty    & Husband       & White & Male & 3103 & 0 & 32 & United-States & >50K \\\\\n",
              "\\end{tabular}\n"
            ],
            "text/markdown": [
              "\n",
              "A data.frame: 6 × 15\n",
              "\n",
              "| <!--/--> | age &lt;int&gt; | workclass &lt;chr&gt; | fnlwgt &lt;int&gt; | education &lt;chr&gt; | educational.num &lt;int&gt; | marital.status &lt;chr&gt; | occupation &lt;chr&gt; | relationship &lt;chr&gt; | race &lt;chr&gt; | gender &lt;chr&gt; | capital.gain &lt;int&gt; | capital.loss &lt;int&gt; | hours.per.week &lt;int&gt; | native.country &lt;chr&gt; | income &lt;chr&gt; |\n",
              "|---|---|---|---|---|---|---|---|---|---|---|---|---|---|---|---|\n",
              "| 1 | 25 | Private  | 226802 | 11th         |  7 | Never-married | Machine-op-inspct | Own-child     | Black | Male |    0 | 0 | 40 | United-States | &lt;=50K |\n",
              "| 2 | 38 | Private  |  89814 | HS-grad      |  9 | Married       | Farming-fishing   | Husband       | White | Male |    0 | 0 | 50 | United-States | &lt;=50K |\n",
              "| 3 | 28 | SL-gov   | 336951 | Assoc-acdm   | 12 | Married       | Protective-serv   | Husband       | White | Male |    0 | 0 | 40 | United-States | &gt;50K  |\n",
              "| 4 | 44 | Private  | 160323 | Some-college | 10 | Married       | Machine-op-inspct | Husband       | Black | Male | 7688 | 0 | 40 | United-States | &gt;50K  |\n",
              "| 5 | 34 | Private  | 198693 | 10th         |  6 | Never-married | Other-service     | Not-in-family | White | Male |    0 | 0 | 30 | United-States | &lt;=50K |\n",
              "| 6 | 63 | self-emp | 104626 | Prof-school  | 15 | Married       | Prof-specialty    | Husband       | White | Male | 3103 | 0 | 32 | United-States | &gt;50K  |\n",
              "\n"
            ],
            "text/plain": [
              "  age workclass fnlwgt education    educational.num marital.status\n",
              "1 25  Private   226802 11th          7              Never-married \n",
              "2 38  Private    89814 HS-grad       9              Married       \n",
              "3 28  SL-gov    336951 Assoc-acdm   12              Married       \n",
              "4 44  Private   160323 Some-college 10              Married       \n",
              "5 34  Private   198693 10th          6              Never-married \n",
              "6 63  self-emp  104626 Prof-school  15              Married       \n",
              "  occupation        relationship  race  gender capital.gain capital.loss\n",
              "1 Machine-op-inspct Own-child     Black Male      0         0           \n",
              "2 Farming-fishing   Husband       White Male      0         0           \n",
              "3 Protective-serv   Husband       White Male      0         0           \n",
              "4 Machine-op-inspct Husband       Black Male   7688         0           \n",
              "5 Other-service     Not-in-family White Male      0         0           \n",
              "6 Prof-specialty    Husband       White Male   3103         0           \n",
              "  hours.per.week native.country income\n",
              "1 40             United-States  <=50K \n",
              "2 50             United-States  <=50K \n",
              "3 40             United-States  >50K  \n",
              "4 40             United-States  >50K  \n",
              "5 30             United-States  <=50K \n",
              "6 32             United-States  >50K  "
            ]
          },
          "metadata": {},
          "output_type": "display_data"
        }
      ],
      "source": [
        "head(data)"
      ]
    },
    {
      "cell_type": "code",
      "execution_count": 33,
      "metadata": {
        "id": "AuUofEjAeMr2",
        "vscode": {
          "languageId": "r"
        }
      },
      "outputs": [],
      "source": [
        "data$income = as.character(data$income)\n",
        "data$income[data$income == \"<=50K\"] = 0\n",
        "data$income[data$income == \">50K\"] = 1\n",
        "data['income'] = as.factor(data$income)"
      ]
    },
    {
      "cell_type": "code",
      "execution_count": 34,
      "metadata": {
        "id": "i9OBryKveMr2",
        "vscode": {
          "languageId": "r"
        }
      },
      "outputs": [],
      "source": [
        "data$age = as.numeric(data$age)\n",
        "data$capital.gain = as.numeric(data$capital.gain)\n",
        "data$fnlwgt = as.numeric(data$fnlwgt)\n",
        "data$capital.loss = as.numeric(data$capital.loss)\n",
        "data$hours.per.week = as.numeric(data$hours.per.week)\n",
        "data$educational.num = as.numeric(data$educational.num)"
      ]
    },
    {
      "cell_type": "code",
      "execution_count": 35,
      "metadata": {
        "id": "9gi9qLHteMr2",
        "vscode": {
          "languageId": "r"
        }
      },
      "outputs": [],
      "source": [
        "data$gender = as.factor(data$gender)\n",
        "data$race = as.factor(data$race)\n",
        "data$education = as.factor(data$education)\n",
        "data$marital.status = as.factor(data$marital.status)\n",
        "data$workclass = as.factor(data$workclass)"
      ]
    },
    {
      "cell_type": "markdown",
      "metadata": {
        "id": "UhTanJXVeMr4"
      },
      "source": [
        "## Zad 6\n",
        "### Podzielić dane na zestaw testowy i uczący"
      ]
    },
    {
      "cell_type": "code",
      "execution_count": 36,
      "metadata": {
        "id": "u7eidUukeMr4",
        "vscode": {
          "languageId": "r"
        }
      },
      "outputs": [],
      "source": [
        "y = data$income"
      ]
    },
    {
      "cell_type": "code",
      "execution_count": 37,
      "metadata": {
        "id": "SWKKTpsWeMr4",
        "vscode": {
          "languageId": "r"
        }
      },
      "outputs": [],
      "source": [
        "data_index = createDataPartition(\n",
        "  y,\n",
        "  times = 1,\n",
        "  p = 0.7,\n",
        "  list = FALSE\n",
        ")"
      ]
    },
    {
      "cell_type": "code",
      "execution_count": 38,
      "metadata": {
        "id": "4zP5r5oHeMr4",
        "vscode": {
          "languageId": "r"
        }
      },
      "outputs": [],
      "source": [
        "train_set = data[data_index, ]\n",
        "test_set = data[-data_index, ]"
      ]
    },
    {
      "cell_type": "markdown",
      "metadata": {
        "id": "5XomMtX1eMr5"
      },
      "source": [
        "## Zad 7\n",
        "### Zbudować model za pomocą funkcji (glm)"
      ]
    },
    {
      "cell_type": "code",
      "execution_count": 39,
      "metadata": {
        "id": "h5SUqLFFeMr5",
        "vscode": {
          "languageId": "r"
        }
      },
      "outputs": [],
      "source": [
        "formula = income ~ ."
      ]
    },
    {
      "cell_type": "code",
      "execution_count": 40,
      "metadata": {
        "colab": {
          "base_uri": "https://localhost:8080/"
        },
        "id": "bUnMuCZdeMr5",
        "outputId": "bd4fd82d-ba91-4446-87de-bfd15f2c3f41",
        "vscode": {
          "languageId": "r"
        }
      },
      "outputs": [
        {
          "name": "stderr",
          "output_type": "stream",
          "text": [
            "Warning message:\n",
            "“glm.fit: fitted probabilities numerically 0 or 1 occurred”\n"
          ]
        }
      ],
      "source": [
        "model = glm(formula, data = train_set, family = \"binomial\")"
      ]
    },
    {
      "cell_type": "code",
      "execution_count": 41,
      "metadata": {
        "colab": {
          "base_uri": "https://localhost:8080/",
          "height": 1000
        },
        "id": "PKmfLbjveMr6",
        "outputId": "348c3919-d925-451d-c762-0cabdf6647b3",
        "vscode": {
          "languageId": "r"
        }
      },
      "outputs": [
        {
          "data": {
            "text/plain": [
              "\n",
              "Call:\n",
              "glm(formula = formula, family = \"binomial\", data = train_set)\n",
              "\n",
              "Coefficients: (1 not defined because of singularities)\n",
              "                                           Estimate Std. Error z value Pr(>|z|)\n",
              "(Intercept)                              -5.327e+00  6.585e-01  -8.089 6.01e-16\n",
              "age                                       2.499e-02  1.648e-03  15.168  < 2e-16\n",
              "workclassself-emp                        -3.038e-01  5.330e-02  -5.699 1.20e-08\n",
              "workclassSL-gov                           8.265e-02  5.949e-02   1.389 0.164723\n",
              "workclassState-gov                       -2.972e-01  8.924e-02  -3.330 0.000867\n",
              "workclassWithout-pay                     -4.273e-01  8.134e-01  -0.525 0.599363\n",
              "fnlwgt                                    7.832e-07  1.699e-07   4.611 4.01e-06\n",
              "education11th                             2.522e-03  2.083e-01   0.012 0.990341\n",
              "education12th                             3.269e-01  2.714e-01   1.205 0.228249\n",
              "education1st-4th                         -1.161e+00  5.987e-01  -1.940 0.052414\n",
              "education5th-6th                         -3.155e-01  3.413e-01  -0.924 0.355245\n",
              "education7th-8th                         -6.499e-01  2.349e-01  -2.767 0.005654\n",
              "education9th                             -4.086e-01  2.691e-01  -1.518 0.128955\n",
              "educationAssoc-acdm                       1.296e+00  1.744e-01   7.433 1.06e-13\n",
              "educationAssoc-voc                        1.148e+00  1.696e-01   6.772 1.27e-11\n",
              "educationBachelors                        1.847e+00  1.576e-01  11.723  < 2e-16\n",
              "educationDoctorate                        2.851e+00  2.190e-01  13.019  < 2e-16\n",
              "educationHS-grad                          7.035e-01  1.532e-01   4.590 4.43e-06\n",
              "educationMasters                          2.152e+00  1.680e-01  12.807  < 2e-16\n",
              "educationPreschool                       -1.525e+00  1.203e+00  -1.268 0.204844\n",
              "educationProf-school                      2.813e+00  2.077e-01  13.544  < 2e-16\n",
              "educationSome-college                     1.061e+00  1.555e-01   6.821 9.04e-12\n",
              "educational.num                                  NA         NA      NA       NA\n",
              "marital.statusNever-married              -7.121e-01  1.236e-01  -5.760 8.40e-09\n",
              "marital.statusNot-Married                -2.800e-01  1.217e-01  -2.300 0.021437\n",
              "occupationArmed-Forces                    6.079e-02  1.330e+00   0.046 0.963549\n",
              "occupationCraft-repair                    6.250e-03  7.813e-02   0.080 0.936250\n",
              "occupationExec-managerial                 7.754e-01  7.568e-02  10.246  < 2e-16\n",
              "occupationFarming-fishing                -1.069e+00  1.347e-01  -7.935 2.11e-15\n",
              "occupationHandlers-cleaners              -7.002e-01  1.347e-01  -5.198 2.01e-07\n",
              "occupationMachine-op-inspct              -3.528e-01  1.001e-01  -3.524 0.000425\n",
              "occupationOther-service                  -9.444e-01  1.156e-01  -8.169 3.10e-16\n",
              "occupationPriv-house-serv                -1.411e+00  7.518e-01  -1.877 0.060521\n",
              "occupationProf-specialty                  5.092e-01  7.969e-02   6.390 1.66e-10\n",
              "occupationProtective-serv                 4.161e-01  1.202e-01   3.460 0.000540\n",
              "occupationSales                           2.105e-01  8.099e-02   2.599 0.009349\n",
              "occupationTech-support                    4.884e-01  1.083e-01   4.508 6.55e-06\n",
              "occupationTransport-moving               -1.809e-01  9.726e-02  -1.860 0.062887\n",
              "relationshipNot-in-family                -1.487e+00  1.180e-01 -12.599  < 2e-16\n",
              "relationshipOther-relative               -1.704e+00  2.138e-01  -7.974 1.54e-15\n",
              "relationshipOwn-child                    -2.424e+00  1.737e-01 -13.956  < 2e-16\n",
              "relationshipUnmarried                    -1.634e+00  1.367e-01 -11.950  < 2e-16\n",
              "relationshipWife                          1.243e+00  1.022e-01  12.164  < 2e-16\n",
              "raceAsian-Pac-Islander                    1.139e+00  2.734e-01   4.167 3.08e-05\n",
              "raceBlack                                 3.638e-01  2.314e-01   1.572 0.115954\n",
              "raceOther                                 4.568e-01  3.476e-01   1.314 0.188779\n",
              "raceWhite                                 5.495e-01  2.198e-01   2.500 0.012405\n",
              "genderMale                                8.014e-01  7.728e-02  10.370  < 2e-16\n",
              "capital.gain                              3.207e-04  1.037e-05  30.929  < 2e-16\n",
              "capital.loss                              6.598e-04  3.746e-05  17.612  < 2e-16\n",
              "hours.per.week                            3.109e-02  1.649e-03  18.855  < 2e-16\n",
              "native.countryCanada                      1.537e-01  6.368e-01   0.241 0.809218\n",
              "native.countryChina                      -1.420e+00  6.485e-01  -2.190 0.028509\n",
              "native.countryColumbia                   -2.698e+00  9.913e-01  -2.722 0.006489\n",
              "native.countryCuba                       -3.605e-01  6.702e-01  -0.538 0.590681\n",
              "native.countryDominican-Republic         -2.416e+00  1.199e+00  -2.015 0.043929\n",
              "native.countryEcuador                    -2.499e-01  8.523e-01  -0.293 0.769338\n",
              "native.countryEl-Salvador                -8.067e-01  7.455e-01  -1.082 0.279228\n",
              "native.countryEngland                    -1.369e-01  6.606e-01  -0.207 0.835845\n",
              "native.countryFrance                      2.721e-01  8.042e-01   0.338 0.735125\n",
              "native.countryGermany                    -2.740e-01  6.350e-01  -0.432 0.666097\n",
              "native.countryGreece                     -1.030e+00  7.558e-01  -1.363 0.172948\n",
              "native.countryGuatemala                  -7.545e-01  9.319e-01  -0.810 0.418204\n",
              "native.countryHaiti                       2.580e-01  8.096e-01   0.319 0.749916\n",
              "native.countryHoland-Netherlands         -1.060e+01  5.354e+02  -0.020 0.984204\n",
              "native.countryHonduras                   -9.739e+00  1.305e+02  -0.075 0.940513\n",
              "native.countryHong                       -1.372e+00  9.064e-01  -1.514 0.130068\n",
              "native.countryHungary                    -7.293e-02  9.015e-01  -0.081 0.935528\n",
              "native.countryIndia                      -1.163e+00  6.314e-01  -1.842 0.065420\n",
              "native.countryIran                       -3.888e-01  7.243e-01  -0.537 0.591431\n",
              "native.countryIreland                     2.562e-01  8.877e-01   0.289 0.772874\n",
              "native.countryItaly                       2.599e-01  6.646e-01   0.391 0.695774\n",
              "native.countryJamaica                    -6.788e-02  7.204e-01  -0.094 0.924929\n",
              "native.countryJapan                      -1.023e+00  6.807e-01  -1.502 0.132981\n",
              "native.countryLaos                       -1.381e+00  1.038e+00  -1.330 0.183365\n",
              "native.countryMexico                     -1.104e+00  6.213e-01  -1.778 0.075451\n",
              "native.countryNicaragua                  -4.521e-01  9.958e-01  -0.454 0.649830\n",
              "native.countryOutlying-US(Guam-USVI-etc) -1.172e+00  1.247e+00  -0.940 0.347233\n",
              "native.countryPeru                       -1.472e+00  1.019e+00  -1.445 0.148509\n",
              "native.countryPhilippines                -3.004e-01  6.059e-01  -0.496 0.620012\n",
              "native.countryPoland                     -3.515e-01  6.996e-01  -0.502 0.615337\n",
              "native.countryPortugal                    4.337e-01  7.335e-01   0.591 0.554316\n",
              "native.countryPuerto-Rico                -7.600e-01  6.862e-01  -1.108 0.268046\n",
              "native.countryScotland                   -8.406e-01  1.072e+00  -0.784 0.433142\n",
              "native.countrySouth                      -2.177e+00  6.948e-01  -3.134 0.001727\n",
              "native.countryTaiwan                     -1.376e+00  7.158e-01  -1.923 0.054521\n",
              "native.countryThailand                   -2.206e+00  1.041e+00  -2.120 0.033965\n",
              "native.countryTrinadad&Tobago            -1.158e+00  1.014e+00  -1.142 0.253296\n",
              "native.countryUnited-States              -2.594e-01  5.825e-01  -0.445 0.656117\n",
              "native.countryVietnam                    -2.597e+00  8.741e-01  -2.971 0.002969\n",
              "native.countryYugoslavia                  1.151e-01  8.576e-01   0.134 0.893272\n",
              "                                            \n",
              "(Intercept)                              ***\n",
              "age                                      ***\n",
              "workclassself-emp                        ***\n",
              "workclassSL-gov                             \n",
              "workclassState-gov                       ***\n",
              "workclassWithout-pay                        \n",
              "fnlwgt                                   ***\n",
              "education11th                               \n",
              "education12th                               \n",
              "education1st-4th                         .  \n",
              "education5th-6th                            \n",
              "education7th-8th                         ** \n",
              "education9th                                \n",
              "educationAssoc-acdm                      ***\n",
              "educationAssoc-voc                       ***\n",
              "educationBachelors                       ***\n",
              "educationDoctorate                       ***\n",
              "educationHS-grad                         ***\n",
              "educationMasters                         ***\n",
              "educationPreschool                          \n",
              "educationProf-school                     ***\n",
              "educationSome-college                    ***\n",
              "educational.num                             \n",
              "marital.statusNever-married              ***\n",
              "marital.statusNot-Married                *  \n",
              "occupationArmed-Forces                      \n",
              "occupationCraft-repair                      \n",
              "occupationExec-managerial                ***\n",
              "occupationFarming-fishing                ***\n",
              "occupationHandlers-cleaners              ***\n",
              "occupationMachine-op-inspct              ***\n",
              "occupationOther-service                  ***\n",
              "occupationPriv-house-serv                .  \n",
              "occupationProf-specialty                 ***\n",
              "occupationProtective-serv                ***\n",
              "occupationSales                          ** \n",
              "occupationTech-support                   ***\n",
              "occupationTransport-moving               .  \n",
              "relationshipNot-in-family                ***\n",
              "relationshipOther-relative               ***\n",
              "relationshipOwn-child                    ***\n",
              "relationshipUnmarried                    ***\n",
              "relationshipWife                         ***\n",
              "raceAsian-Pac-Islander                   ***\n",
              "raceBlack                                   \n",
              "raceOther                                   \n",
              "raceWhite                                *  \n",
              "genderMale                               ***\n",
              "capital.gain                             ***\n",
              "capital.loss                             ***\n",
              "hours.per.week                           ***\n",
              "native.countryCanada                        \n",
              "native.countryChina                      *  \n",
              "native.countryColumbia                   ** \n",
              "native.countryCuba                          \n",
              "native.countryDominican-Republic         *  \n",
              "native.countryEcuador                       \n",
              "native.countryEl-Salvador                   \n",
              "native.countryEngland                       \n",
              "native.countryFrance                        \n",
              "native.countryGermany                       \n",
              "native.countryGreece                        \n",
              "native.countryGuatemala                     \n",
              "native.countryHaiti                         \n",
              "native.countryHoland-Netherlands            \n",
              "native.countryHonduras                      \n",
              "native.countryHong                          \n",
              "native.countryHungary                       \n",
              "native.countryIndia                      .  \n",
              "native.countryIran                          \n",
              "native.countryIreland                       \n",
              "native.countryItaly                         \n",
              "native.countryJamaica                       \n",
              "native.countryJapan                         \n",
              "native.countryLaos                          \n",
              "native.countryMexico                     .  \n",
              "native.countryNicaragua                     \n",
              "native.countryOutlying-US(Guam-USVI-etc)    \n",
              "native.countryPeru                          \n",
              "native.countryPhilippines                   \n",
              "native.countryPoland                        \n",
              "native.countryPortugal                      \n",
              "native.countryPuerto-Rico                   \n",
              "native.countryScotland                      \n",
              "native.countrySouth                      ** \n",
              "native.countryTaiwan                     .  \n",
              "native.countryThailand                   *  \n",
              "native.countryTrinadad&Tobago               \n",
              "native.countryUnited-States                 \n",
              "native.countryVietnam                    ** \n",
              "native.countryYugoslavia                    \n",
              "---\n",
              "Signif. codes:  0 ‘***’ 0.001 ‘**’ 0.01 ‘*’ 0.05 ‘.’ 0.1 ‘ ’ 1\n",
              "\n",
              "(Dispersion parameter for binomial family taken to be 1)\n",
              "\n",
              "    Null deviance: 35452  on 31655  degrees of freedom\n",
              "Residual deviance: 20526  on 31566  degrees of freedom\n",
              "AIC: 20706\n",
              "\n",
              "Number of Fisher Scoring iterations: 12\n"
            ]
          },
          "metadata": {},
          "output_type": "display_data"
        }
      ],
      "source": [
        "summary(model)"
      ]
    },
    {
      "cell_type": "markdown",
      "metadata": {
        "id": "VWr2Y42xeMr6"
      },
      "source": [
        "## Zad 8\n",
        "### Dopracować model za pomocą funkcji step"
      ]
    },
    {
      "cell_type": "code",
      "execution_count": 42,
      "metadata": {
        "colab": {
          "base_uri": "https://localhost:8080/"
        },
        "id": "04IZ10vheMr6",
        "outputId": "149ce019-c602-4eef-c53f-1a8fb1b25069",
        "vscode": {
          "languageId": "r"
        }
      },
      "outputs": [
        {
          "name": "stdout",
          "output_type": "stream",
          "text": [
            "Start:  AIC=20705.59\n",
            "income ~ age + workclass + fnlwgt + education + educational.num + \n",
            "    marital.status + occupation + relationship + race + gender + \n",
            "    capital.gain + capital.loss + hours.per.week + native.country\n",
            "\n"
          ]
        },
        {
          "name": "stderr",
          "output_type": "stream",
          "text": [
            "Warning message:\n",
            "“glm.fit: fitted probabilities numerically 0 or 1 occurred”\n",
            "Warning message:\n",
            "“glm.fit: fitted probabilities numerically 0 or 1 occurred”\n",
            "Warning message:\n",
            "“glm.fit: fitted probabilities numerically 0 or 1 occurred”\n",
            "Warning message:\n",
            "“glm.fit: fitted probabilities numerically 0 or 1 occurred”\n",
            "Warning message:\n",
            "“glm.fit: fitted probabilities numerically 0 or 1 occurred”\n",
            "Warning message:\n",
            "“glm.fit: fitted probabilities numerically 0 or 1 occurred”\n",
            "Warning message:\n",
            "“glm.fit: fitted probabilities numerically 0 or 1 occurred”\n",
            "Warning message:\n",
            "“glm.fit: fitted probabilities numerically 0 or 1 occurred”\n",
            "Warning message:\n",
            "“glm.fit: fitted probabilities numerically 0 or 1 occurred”\n",
            "Warning message:\n",
            "“glm.fit: fitted probabilities numerically 0 or 1 occurred”\n",
            "Warning message:\n",
            "“glm.fit: fitted probabilities numerically 0 or 1 occurred”\n",
            "Warning message:\n",
            "“glm.fit: fitted probabilities numerically 0 or 1 occurred”\n",
            "Warning message:\n",
            "“glm.fit: fitted probabilities numerically 0 or 1 occurred”\n",
            "Warning message:\n",
            "“glm.fit: fitted probabilities numerically 0 or 1 occurred”\n"
          ]
        },
        {
          "name": "stdout",
          "output_type": "stream",
          "text": [
            "\n",
            "Step:  AIC=20705.59\n",
            "income ~ age + workclass + fnlwgt + education + marital.status + \n",
            "    occupation + relationship + race + gender + capital.gain + \n",
            "    capital.loss + hours.per.week + native.country\n",
            "\n"
          ]
        },
        {
          "name": "stderr",
          "output_type": "stream",
          "text": [
            "Warning message:\n",
            "“glm.fit: fitted probabilities numerically 0 or 1 occurred”\n",
            "Warning message:\n",
            "“glm.fit: fitted probabilities numerically 0 or 1 occurred”\n",
            "Warning message:\n",
            "“glm.fit: fitted probabilities numerically 0 or 1 occurred”\n",
            "Warning message:\n",
            "“glm.fit: fitted probabilities numerically 0 or 1 occurred”\n",
            "Warning message:\n",
            "“glm.fit: fitted probabilities numerically 0 or 1 occurred”\n",
            "Warning message:\n",
            "“glm.fit: fitted probabilities numerically 0 or 1 occurred”\n",
            "Warning message:\n",
            "“glm.fit: fitted probabilities numerically 0 or 1 occurred”\n",
            "Warning message:\n",
            "“glm.fit: fitted probabilities numerically 0 or 1 occurred”\n",
            "Warning message:\n",
            "“glm.fit: fitted probabilities numerically 0 or 1 occurred”\n",
            "Warning message:\n",
            "“glm.fit: fitted probabilities numerically 0 or 1 occurred”\n",
            "Warning message:\n",
            "“glm.fit: fitted probabilities numerically 0 or 1 occurred”\n",
            "Warning message:\n",
            "“glm.fit: fitted probabilities numerically 0 or 1 occurred”\n"
          ]
        },
        {
          "name": "stdout",
          "output_type": "stream",
          "text": [
            "                 Df Deviance   AIC\n",
            "<none>                 20526 20706\n",
            "- race            4    20551 20723\n",
            "- fnlwgt          1    20547 20725\n",
            "- native.country 40    20638 20738\n",
            "- marital.status  2    20568 20744\n",
            "- workclass       4    20574 20746\n",
            "- gender          1    20636 20814\n",
            "- age             1    20758 20936\n",
            "- capital.loss    1    20845 21023\n",
            "- hours.per.week  1    20890 21068\n",
            "- occupation     13    21161 21315\n",
            "- relationship    5    21198 21368\n",
            "- education      15    21531 21681\n",
            "- capital.gain    1    22363 22541\n"
          ]
        }
      ],
      "source": [
        "step_model = step(model)"
      ]
    },
    {
      "cell_type": "markdown",
      "metadata": {
        "id": "L02rUWwFeMr7"
      },
      "source": [
        "## Zad 9\n",
        "### Przedataować model na danych dataowych (tablica pomyłek)"
      ]
    },
    {
      "cell_type": "code",
      "execution_count": 43,
      "metadata": {
        "colab": {
          "base_uri": "https://localhost:8080/",
          "height": 90
        },
        "id": "lplJpH5XeMr7",
        "outputId": "c5c4d6ec-e7e3-45c1-b6ad-b22d7aa1aa6c",
        "vscode": {
          "languageId": "r"
        }
      },
      "outputs": [
        {
          "data": {
            "text/plain": [
              "         actual\n",
              "predicted    0    1\n",
              "    <=50K 9762 1736\n",
              "    >50K   442 1626"
            ]
          },
          "metadata": {},
          "output_type": "display_data"
        }
      ],
      "source": [
        "predictions = predict(step_model, newdata = test_set)\n",
        "y_hat = ifelse(predictions > 0.5, \">50K\", \"<=50K\")\n",
        "pred = table(predicted = y_hat, actual = test_set$income)\n",
        "pred"
      ]
    },
    {
      "cell_type": "code",
      "execution_count": 44,
      "metadata": {
        "colab": {
          "base_uri": "https://localhost:8080/"
        },
        "id": "0HfmK78Yjst8",
        "outputId": "f0bc5981-fd39-4c4e-f5ff-edbd7152a5a3"
      },
      "outputs": [
        {
          "name": "stderr",
          "output_type": "stream",
          "text": [
            "Installing package into ‘/usr/local/lib/R/site-library’\n",
            "(as ‘lib’ is unspecified)\n",
            "\n"
          ]
        }
      ],
      "source": [
        "install.packages(\"pROC\")"
      ]
    },
    {
      "cell_type": "code",
      "execution_count": 45,
      "metadata": {
        "colab": {
          "base_uri": "https://localhost:8080/",
          "height": 403
        },
        "id": "_JDOI2A3jnr8",
        "outputId": "4e48dfa6-553a-42eb-d135-4177b229743f"
      },
      "outputs": [
        {
          "name": "stderr",
          "output_type": "stream",
          "text": [
            "Type 'citation(\"pROC\")' for a citation.\n",
            "\n",
            "\n",
            "Attaching package: ‘pROC’\n",
            "\n",
            "\n",
            "The following objects are masked from ‘package:stats’:\n",
            "\n",
            "    cov, smooth, var\n",
            "\n",
            "\n",
            "Setting levels: control = 0, case = 1\n",
            "\n",
            "Setting direction: controls < cases\n",
            "\n"
          ]
        },
        {
          "data": {
            "text/plain": [
              "\n",
              "Call:\n",
              "roc.default(response = test_set$income, predictor = predictions)\n",
              "\n",
              "Data: predictions in 10204 controls (test_set$income 0) < 3362 cases (test_set$income 1).\n",
              "Area under the curve: 0.901"
            ]
          },
          "metadata": {},
          "output_type": "display_data"
        }
      ],
      "source": [
        "library(pROC)\n",
        "roc_obj = roc(test_set$income, predictions)\n",
        "roc_obj"
      ]
    },
    {
      "cell_type": "markdown",
      "metadata": {
        "id": "ddWPweJheMr8"
      },
      "source": [
        "## Zad 10\n",
        "### Obliczyć F1-score dla opracowanego modelu"
      ]
    },
    {
      "cell_type": "code",
      "execution_count": 46,
      "metadata": {
        "colab": {
          "base_uri": "https://localhost:8080/",
          "height": 34
        },
        "id": "N4eovXk6eMr9",
        "outputId": "06b7d170-e3f6-45f9-928b-ed1d6ebb3b1a",
        "vscode": {
          "languageId": "r"
        }
      },
      "outputs": [
        {
          "data": {
            "text/html": [
              "0.899640586121095"
            ],
            "text/latex": [
              "0.899640586121095"
            ],
            "text/markdown": [
              "0.899640586121095"
            ],
            "text/plain": [
              "[1] 0.8996406"
            ]
          },
          "metadata": {},
          "output_type": "display_data"
        }
      ],
      "source": [
        "TP <- pred[1,1]\n",
        "FP <- pred[1,2]\n",
        "FN <- pred[2,1]\n",
        "TN <- pred[2,2]\n",
        "\n",
        "TPR <- TP/(TP+FN)\n",
        "TNR <- TN/(TN+FP)\n",
        "PPV <- TP/(TP+FP)\n",
        "\n",
        "(F_wynik = 1/(0.5*(1/TPR + 1/PPV)))\n",
        "# 0.899640586121095\n"
      ]
    },
    {
      "cell_type": "markdown",
      "metadata": {},
      "source": [
        "## Wyniki i podsumowanie\n",
        "\n",
        "### pROC\n",
        "Data: predictions in 10204 controls (test_set$income 0) < 3362 cases (test_set$income 1).\n",
        "\n",
        "Area under the curve: 0.901\n",
        "\n",
        "\n",
        "Wysoka wartość obszaru pod krzywą (0,901) wskazuje na wysoką jakość klasyfikatora. \n",
        "\n",
        "Krzywa ROC pokazuje zależność między czułością (recall) i swoistością (1 - procent wyników fałszywie dodatnich) w zależności od różnych progów używanych do klasyfikacji.\n",
        "\n",
        "### Wynik F\n",
        "Wynik F jest wysoki (0,899640586121095) - pokazuje, że wydajność modelu jest bardzo dobra i możemy przewidzieć 89% zmienności.\n",
        "\n",
        "Wyższa wartość F wskazuje na lepszą wydajność modelu w rozpoznawaniu zarówno pozytywnych, jak i negatywnych przypadków. Wartość F może wynosić od 0 do 1, gdzie 1 oznacza doskonałą wydajność, a 0 oznacza najgorszą wydajność.\n",
        "\n",
        "### Podsumowanie\n",
        "Funkacja Step pomogła mi wybrać zmienne, które mają najlepszy wpływ na model, a pozostawienie tylko tych pomogło dostroić model tak, aby miał świetną wydajność."
      ]
    }
  ],
  "metadata": {
    "colab": {
      "provenance": []
    },
    "kernelspec": {
      "display_name": "R",
      "language": "R",
      "name": "ir"
    },
    "language_info": {
      "codemirror_mode": {
        "name": "ipython",
        "version": 3
      },
      "file_extension": ".py",
      "mimetype": "text/x-python",
      "name": "python",
      "nbconvert_exporter": "python",
      "pygments_lexer": "ipython3",
      "version": "3.9.12"
    }
  },
  "nbformat": 4,
  "nbformat_minor": 0
}
